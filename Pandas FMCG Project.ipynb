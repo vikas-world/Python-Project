{
 "cells": [
  {
   "cell_type": "code",
   "execution_count": 28,
   "id": "80d40482",
   "metadata": {},
   "outputs": [],
   "source": [
    "import pandas as pd\n",
    "import numpy as np"
   ]
  },
  {
   "cell_type": "code",
   "execution_count": 29,
   "id": "7a88508a",
   "metadata": {},
   "outputs": [],
   "source": [
    "df = pd.read_csv('C:\\\\Users\\\\vikas\\\\OneDrive\\\\Desktop\\\\Iota Notes\\\\Raw Sales Data.csv')"
   ]
  },
  {
   "cell_type": "code",
   "execution_count": 30,
   "id": "8a4453d2",
   "metadata": {
    "scrolled": false
   },
   "outputs": [
    {
     "data": {
      "text/html": [
       "<div>\n",
       "<style scoped>\n",
       "    .dataframe tbody tr th:only-of-type {\n",
       "        vertical-align: middle;\n",
       "    }\n",
       "\n",
       "    .dataframe tbody tr th {\n",
       "        vertical-align: top;\n",
       "    }\n",
       "\n",
       "    .dataframe thead th {\n",
       "        text-align: right;\n",
       "    }\n",
       "</style>\n",
       "<table border=\"1\" class=\"dataframe\">\n",
       "  <thead>\n",
       "    <tr style=\"text-align: right;\">\n",
       "      <th></th>\n",
       "      <th>Month</th>\n",
       "      <th>Channel</th>\n",
       "      <th>Sub-Channels</th>\n",
       "      <th>Product Name</th>\n",
       "      <th>Category</th>\n",
       "      <th>Qty</th>\n",
       "      <th>Sales</th>\n",
       "    </tr>\n",
       "  </thead>\n",
       "  <tbody>\n",
       "    <tr>\n",
       "      <th>0</th>\n",
       "      <td>01-Dec-20</td>\n",
       "      <td>Marketplace</td>\n",
       "      <td>AMAZON</td>\n",
       "      <td>ALOE + AMLA JUICE 1 L</td>\n",
       "      <td>Juices</td>\n",
       "      <td>1,116</td>\n",
       "      <td>4,28,700</td>\n",
       "    </tr>\n",
       "    <tr>\n",
       "      <th>1</th>\n",
       "      <td>01-Dec-20</td>\n",
       "      <td>Marketplace</td>\n",
       "      <td>AMAZON</td>\n",
       "      <td>ALOE + GARCINIA JUICE 1 L</td>\n",
       "      <td>Juices</td>\n",
       "      <td>3,003</td>\n",
       "      <td>13,74,831</td>\n",
       "    </tr>\n",
       "    <tr>\n",
       "      <th>2</th>\n",
       "      <td>01-Dec-20</td>\n",
       "      <td>Marketplace</td>\n",
       "      <td>AMAZON</td>\n",
       "      <td>ALOE VERA JUICE 1 L</td>\n",
       "      <td>Juices</td>\n",
       "      <td>2,962</td>\n",
       "      <td>7,32,167</td>\n",
       "    </tr>\n",
       "    <tr>\n",
       "      <th>3</th>\n",
       "      <td>01-Dec-20</td>\n",
       "      <td>Marketplace</td>\n",
       "      <td>AMAZON</td>\n",
       "      <td>ALOE VERA SKIN GEL 500 GM</td>\n",
       "      <td>Gourmet Nutrition</td>\n",
       "      <td>1,004</td>\n",
       "      <td>3,77,100</td>\n",
       "    </tr>\n",
       "    <tr>\n",
       "      <th>4</th>\n",
       "      <td>01-Dec-20</td>\n",
       "      <td>Marketplace</td>\n",
       "      <td>AMAZON</td>\n",
       "      <td>NEEM JUICE 1 L</td>\n",
       "      <td>Juices</td>\n",
       "      <td>555</td>\n",
       "      <td>1,52,287</td>\n",
       "    </tr>\n",
       "    <tr>\n",
       "      <th>...</th>\n",
       "      <td>...</td>\n",
       "      <td>...</td>\n",
       "      <td>...</td>\n",
       "      <td>...</td>\n",
       "      <td>...</td>\n",
       "      <td>...</td>\n",
       "      <td>...</td>\n",
       "    </tr>\n",
       "    <tr>\n",
       "      <th>219</th>\n",
       "      <td>01-Mar-21</td>\n",
       "      <td>Marketplace</td>\n",
       "      <td>Big Basket</td>\n",
       "      <td>ORGANIC GULKAND 300grams</td>\n",
       "      <td>Gourmet Nutrition</td>\n",
       "      <td>509</td>\n",
       "      <td>1,65,426</td>\n",
       "    </tr>\n",
       "    <tr>\n",
       "      <th>220</th>\n",
       "      <td>01-Mar-21</td>\n",
       "      <td>Marketplace</td>\n",
       "      <td>Flipkart</td>\n",
       "      <td>ALOE + GARCINIA JUICE 1 L</td>\n",
       "      <td>Juices</td>\n",
       "      <td>542</td>\n",
       "      <td>2,48,830</td>\n",
       "    </tr>\n",
       "    <tr>\n",
       "      <th>221</th>\n",
       "      <td>01-Mar-21</td>\n",
       "      <td>Marketplace</td>\n",
       "      <td>Flipkart</td>\n",
       "      <td>AMLA JUICE 1 L</td>\n",
       "      <td>Juices</td>\n",
       "      <td>645</td>\n",
       "      <td>1,40,907</td>\n",
       "    </tr>\n",
       "    <tr>\n",
       "      <th>222</th>\n",
       "      <td>01-Mar-21</td>\n",
       "      <td>Marketplace</td>\n",
       "      <td>Flipkart</td>\n",
       "      <td>GET SLIM JUICE 1 L</td>\n",
       "      <td>Juices</td>\n",
       "      <td>1,242</td>\n",
       "      <td>4,36,043</td>\n",
       "    </tr>\n",
       "    <tr>\n",
       "      <th>223</th>\n",
       "      <td>01-Mar-21</td>\n",
       "      <td>Marketplace</td>\n",
       "      <td>GOQII</td>\n",
       "      <td>RAW HONEY ( MADHU) 500 GRAMS</td>\n",
       "      <td>Gourmet Nutrition</td>\n",
       "      <td>971</td>\n",
       "      <td>5,82,600</td>\n",
       "    </tr>\n",
       "  </tbody>\n",
       "</table>\n",
       "<p>224 rows × 7 columns</p>\n",
       "</div>"
      ],
      "text/plain": [
       "         Month      Channel Sub-Channels                  Product Name  \\\n",
       "0    01-Dec-20  Marketplace       AMAZON         ALOE + AMLA JUICE 1 L   \n",
       "1    01-Dec-20  Marketplace       AMAZON     ALOE + GARCINIA JUICE 1 L   \n",
       "2    01-Dec-20  Marketplace       AMAZON           ALOE VERA JUICE 1 L   \n",
       "3    01-Dec-20  Marketplace       AMAZON     ALOE VERA SKIN GEL 500 GM   \n",
       "4    01-Dec-20  Marketplace       AMAZON                NEEM JUICE 1 L   \n",
       "..         ...          ...          ...                           ...   \n",
       "219  01-Mar-21  Marketplace   Big Basket      ORGANIC GULKAND 300grams   \n",
       "220  01-Mar-21  Marketplace     Flipkart     ALOE + GARCINIA JUICE 1 L   \n",
       "221  01-Mar-21  Marketplace     Flipkart                AMLA JUICE 1 L   \n",
       "222  01-Mar-21  Marketplace     Flipkart            GET SLIM JUICE 1 L   \n",
       "223  01-Mar-21  Marketplace        GOQII  RAW HONEY ( MADHU) 500 GRAMS   \n",
       "\n",
       "              Category      Qty        Sales  \n",
       "0               Juices   1,116     4,28,700   \n",
       "1               Juices   3,003    13,74,831   \n",
       "2               Juices   2,962     7,32,167   \n",
       "3    Gourmet Nutrition   1,004     3,77,100   \n",
       "4               Juices     555     1,52,287   \n",
       "..                 ...      ...          ...  \n",
       "219  Gourmet Nutrition     509     1,65,426   \n",
       "220             Juices     542     2,48,830   \n",
       "221             Juices     645     1,40,907   \n",
       "222             Juices   1,242     4,36,043   \n",
       "223  Gourmet Nutrition     971     5,82,600   \n",
       "\n",
       "[224 rows x 7 columns]"
      ]
     },
     "execution_count": 30,
     "metadata": {},
     "output_type": "execute_result"
    }
   ],
   "source": [
    "df"
   ]
  },
  {
   "cell_type": "markdown",
   "id": "b39c087b",
   "metadata": {},
   "source": [
    "# 1. Monthwise number of quantities sold"
   ]
  },
  {
   "cell_type": "code",
   "execution_count": 31,
   "id": "b5dca67e",
   "metadata": {},
   "outputs": [],
   "source": [
    "df['Month'] = pd.to_datetime(df['Month'])"
   ]
  },
  {
   "cell_type": "code",
   "execution_count": 32,
   "id": "2b98efb6",
   "metadata": {},
   "outputs": [],
   "source": [
    "df['Month'] = df['Month'].dt.strftime('%B')"
   ]
  },
  {
   "cell_type": "code",
   "execution_count": 33,
   "id": "cdb590c5",
   "metadata": {},
   "outputs": [],
   "source": [
    "df['Qty']=df['Qty'].apply(lambda x: x.replace(\",\",\"\"))"
   ]
  },
  {
   "cell_type": "code",
   "execution_count": 34,
   "id": "6b9e6fae",
   "metadata": {},
   "outputs": [],
   "source": [
    "df['Qty'] = df['Qty'].astype('int64')"
   ]
  },
  {
   "cell_type": "code",
   "execution_count": 35,
   "id": "68f74501",
   "metadata": {},
   "outputs": [],
   "source": [
    "df1 = df.groupby('Month')['Qty'].sum()"
   ]
  },
  {
   "cell_type": "code",
   "execution_count": 36,
   "id": "b83d1ebb",
   "metadata": {},
   "outputs": [
    {
     "data": {
      "text/plain": [
       "Month\n",
       "December    85427\n",
       "February    76393\n",
       "January     67732\n",
       "March       80229\n",
       "Name: Qty, dtype: int64"
      ]
     },
     "execution_count": 36,
     "metadata": {},
     "output_type": "execute_result"
    }
   ],
   "source": [
    "df1"
   ]
  },
  {
   "cell_type": "code",
   "execution_count": 37,
   "id": "69e43f92",
   "metadata": {},
   "outputs": [
    {
     "data": {
      "text/plain": [
       "Month           object\n",
       "Channel         object\n",
       "Sub-Channels    object\n",
       "Product Name    object\n",
       "Category        object\n",
       "Qty              int64\n",
       "Sales           object\n",
       "dtype: object"
      ]
     },
     "execution_count": 37,
     "metadata": {},
     "output_type": "execute_result"
    }
   ],
   "source": [
    "df.dtypes"
   ]
  },
  {
   "cell_type": "markdown",
   "id": "8dfef0c5",
   "metadata": {},
   "source": [
    "# 2. Category wise Qty sold "
   ]
  },
  {
   "cell_type": "code",
   "execution_count": 10,
   "id": "5c758b65",
   "metadata": {},
   "outputs": [],
   "source": [
    "df2 = df.groupby('Category')['Qty'].sum()"
   ]
  },
  {
   "cell_type": "code",
   "execution_count": 11,
   "id": "3231d7c6",
   "metadata": {},
   "outputs": [
    {
     "data": {
      "text/plain": [
       "Category\n",
       "Functional nutrition     42354\n",
       "Gourmet Nutrition        89279\n",
       "Juices                  178148\n",
       "Name: Qty, dtype: int64"
      ]
     },
     "execution_count": 11,
     "metadata": {},
     "output_type": "execute_result"
    }
   ],
   "source": [
    "df2"
   ]
  },
  {
   "cell_type": "markdown",
   "id": "294cca5d",
   "metadata": {},
   "source": [
    "# 3. Sub-channel wise total sales"
   ]
  },
  {
   "cell_type": "code",
   "execution_count": 12,
   "id": "75a1b58b",
   "metadata": {},
   "outputs": [],
   "source": [
    "df['Sales'] = df['Sales'].apply(lambda x: x.replace(\",\",\"\"))"
   ]
  },
  {
   "cell_type": "code",
   "execution_count": 13,
   "id": "3af18fc6",
   "metadata": {},
   "outputs": [],
   "source": [
    "df['Sales'] = df['Sales'].astype('int64')"
   ]
  },
  {
   "cell_type": "code",
   "execution_count": 14,
   "id": "acabc23a",
   "metadata": {},
   "outputs": [],
   "source": [
    "df3 = df.groupby('Sub-Channels')['Sales'].sum()"
   ]
  },
  {
   "cell_type": "code",
   "execution_count": 15,
   "id": "bbd06971",
   "metadata": {},
   "outputs": [
    {
     "data": {
      "text/plain": [
       "Sub-Channels\n",
       "AMAZON               35606804\n",
       "Big Basket            1207522\n",
       "D2C                  28047538\n",
       "Flipkart              3770415\n",
       "GOQII                  582600\n",
       "Offline - Central      375332\n",
       "Offline - East         811146\n",
       "Offline - MT          6257948\n",
       "Offline - South       3446395\n",
       "Offline - West        6441427\n",
       "Offline -North        1206564\n",
       "Name: Sales, dtype: int64"
      ]
     },
     "execution_count": 15,
     "metadata": {},
     "output_type": "execute_result"
    }
   ],
   "source": [
    "df3"
   ]
  },
  {
   "cell_type": "markdown",
   "id": "a9f9a440",
   "metadata": {},
   "source": [
    "# 4. Highest sale in which month"
   ]
  },
  {
   "cell_type": "code",
   "execution_count": 16,
   "id": "477e36e1",
   "metadata": {},
   "outputs": [],
   "source": [
    "df4 = df.groupby('Month')['Sales'].max().nlargest(1)"
   ]
  },
  {
   "cell_type": "code",
   "execution_count": 17,
   "id": "e09b5f30",
   "metadata": {},
   "outputs": [
    {
     "data": {
      "text/plain": [
       "Month\n",
       "March    4390500\n",
       "Name: Sales, dtype: int64"
      ]
     },
     "execution_count": 17,
     "metadata": {},
     "output_type": "execute_result"
    }
   ],
   "source": [
    "df4"
   ]
  },
  {
   "cell_type": "markdown",
   "id": "12b1db4a",
   "metadata": {},
   "source": [
    "# 5. Highest selling product (based on sales) (packaging quantity doesn't matter. Ex. consider \"GET SLIM JUICE 1 L\" and \"GET SLIM JUICE 500 ML\" as one product)"
   ]
  },
  {
   "cell_type": "code",
   "execution_count": 18,
   "id": "823e257d",
   "metadata": {},
   "outputs": [
    {
     "name": "stderr",
     "output_type": "stream",
     "text": [
      "C:\\Users\\vikas\\AppData\\Local\\Temp\\ipykernel_5388\\1893461074.py:1: FutureWarning: The default value of regex will change from True to False in a future version.\n",
      "  df['Product Name']=df['Product Name'].str.replace('\\d+','')\n"
     ]
    }
   ],
   "source": [
    "df['Product Name']=df['Product Name'].str.replace('\\d+','')\n",
    "df['Product Name']=df['Product Name'].apply(lambda x: x.replace(\"L\",\"\"))\n",
    "df5 = df.groupby('Product Name')['Sales'].sum().nlargest(1)"
   ]
  },
  {
   "cell_type": "code",
   "execution_count": 19,
   "id": "79607f38",
   "metadata": {},
   "outputs": [
    {
     "data": {
      "text/plain": [
       "Product Name\n",
       "AOE + GARCINIA JUICE      12249252\n",
       "Name: Sales, dtype: int64"
      ]
     },
     "execution_count": 19,
     "metadata": {},
     "output_type": "execute_result"
    }
   ],
   "source": [
    "df5"
   ]
  },
  {
   "cell_type": "markdown",
   "id": "6c0bae85",
   "metadata": {},
   "source": [
    "# 6. List of different products company is offering (packaging quantity doesn't matter. Ex. consider \"GET SLIM JUICE 1 L\" and \"GET SLIM JUICE 500 ML\" as one product)\n"
   ]
  },
  {
   "cell_type": "code",
   "execution_count": 20,
   "id": "559feb86",
   "metadata": {},
   "outputs": [],
   "source": [
    "df['Product Name'] = df['Product Name'].str.split('\\d').str[-1].str.strip()"
   ]
  },
  {
   "cell_type": "code",
   "execution_count": 21,
   "id": "e9d3498a",
   "metadata": {},
   "outputs": [],
   "source": [
    "df6 = pd.DataFrame(df['Product Name'].unique()).rename(columns={0:'Product Name'})"
   ]
  },
  {
   "cell_type": "code",
   "execution_count": 22,
   "id": "b01884e1",
   "metadata": {},
   "outputs": [
    {
     "data": {
      "text/html": [
       "<div>\n",
       "<style scoped>\n",
       "    .dataframe tbody tr th:only-of-type {\n",
       "        vertical-align: middle;\n",
       "    }\n",
       "\n",
       "    .dataframe tbody tr th {\n",
       "        vertical-align: top;\n",
       "    }\n",
       "\n",
       "    .dataframe thead th {\n",
       "        text-align: right;\n",
       "    }\n",
       "</style>\n",
       "<table border=\"1\" class=\"dataframe\">\n",
       "  <thead>\n",
       "    <tr style=\"text-align: right;\">\n",
       "      <th></th>\n",
       "      <th>Product Name</th>\n",
       "    </tr>\n",
       "  </thead>\n",
       "  <tbody>\n",
       "    <tr>\n",
       "      <th>0</th>\n",
       "      <td>AOE + AMA JUICE</td>\n",
       "    </tr>\n",
       "    <tr>\n",
       "      <th>1</th>\n",
       "      <td>AOE + GARCINIA JUICE</td>\n",
       "    </tr>\n",
       "    <tr>\n",
       "      <th>2</th>\n",
       "      <td>AOE VERA JUICE</td>\n",
       "    </tr>\n",
       "    <tr>\n",
       "      <th>3</th>\n",
       "      <td>AOE VERA SKIN GE  GM</td>\n",
       "    </tr>\n",
       "    <tr>\n",
       "      <th>4</th>\n",
       "      <td>NEEM JUICE</td>\n",
       "    </tr>\n",
       "    <tr>\n",
       "      <th>5</th>\n",
       "      <td>NONI JUICE</td>\n",
       "    </tr>\n",
       "    <tr>\n",
       "      <th>6</th>\n",
       "      <td>SIM SHAKE - CHOCOATE  GM</td>\n",
       "    </tr>\n",
       "    <tr>\n",
       "      <th>7</th>\n",
       "      <td>SIM SHAKE - MANGO  GM</td>\n",
       "    </tr>\n",
       "    <tr>\n",
       "      <th>8</th>\n",
       "      <td>TRIPHAA JUICE</td>\n",
       "    </tr>\n",
       "    <tr>\n",
       "      <th>9</th>\n",
       "      <td>TUSI GIOY JUICE</td>\n",
       "    </tr>\n",
       "    <tr>\n",
       "      <th>10</th>\n",
       "      <td>WHEAT GRASS JUICE</td>\n",
       "    </tr>\n",
       "    <tr>\n",
       "      <th>11</th>\n",
       "      <td>AMA JUICE</td>\n",
       "    </tr>\n",
       "    <tr>\n",
       "      <th>12</th>\n",
       "      <td>GET SIM JUICE</td>\n",
       "    </tr>\n",
       "    <tr>\n",
       "      <th>13</th>\n",
       "      <td>HIMAAYA OI  GRMS</td>\n",
       "    </tr>\n",
       "    <tr>\n",
       "      <th>14</th>\n",
       "      <td>VIGOR MAX JUICE</td>\n",
       "    </tr>\n",
       "    <tr>\n",
       "      <th>15</th>\n",
       "      <td>ORGANIC JAGGERY POWDER  GRAMS</td>\n",
       "    </tr>\n",
       "    <tr>\n",
       "      <th>16</th>\n",
       "      <td>APPE CIDER VINEGAR grams</td>\n",
       "    </tr>\n",
       "    <tr>\n",
       "      <th>17</th>\n",
       "      <td>VIRGIN COCONUT OI  M</td>\n",
       "    </tr>\n",
       "    <tr>\n",
       "      <th>18</th>\n",
       "      <td>KAREA JAMUN JUICE</td>\n",
       "    </tr>\n",
       "    <tr>\n",
       "      <th>19</th>\n",
       "      <td>MASAA SUPERGRAIN MIX ENERGY  GM ( OFFINE)</td>\n",
       "    </tr>\n",
       "    <tr>\n",
       "      <th>20</th>\n",
       "      <td>MASAA SUPERGRAIN MIX IMMUNITY  GM ( OFFINE)</td>\n",
       "    </tr>\n",
       "    <tr>\n",
       "      <th>21</th>\n",
       "      <td>AMA + GIOY JUICE</td>\n",
       "    </tr>\n",
       "    <tr>\n",
       "      <th>22</th>\n",
       "      <td>DIA FREE JUICE</td>\n",
       "    </tr>\n",
       "    <tr>\n",
       "      <th>23</th>\n",
       "      <td>IMMUNE CARE JUICE</td>\n",
       "    </tr>\n",
       "    <tr>\n",
       "      <th>24</th>\n",
       "      <td>MASAA SUPERGRAIN MIX IMMUNITY  GM</td>\n",
       "    </tr>\n",
       "    <tr>\n",
       "      <th>25</th>\n",
       "      <td>ORGANIC GUKAND grams</td>\n",
       "    </tr>\n",
       "    <tr>\n",
       "      <th>26</th>\n",
       "      <td>VEGAN PROTEIN - CHOCOATE  KG</td>\n",
       "    </tr>\n",
       "    <tr>\n",
       "      <th>27</th>\n",
       "      <td>GET SIM CAPSUES  CAPS</td>\n",
       "    </tr>\n",
       "    <tr>\n",
       "      <th>28</th>\n",
       "      <td>RAW HONEY ( MADHU)  GRAMS</td>\n",
       "    </tr>\n",
       "  </tbody>\n",
       "</table>\n",
       "</div>"
      ],
      "text/plain": [
       "                                   Product Name\n",
       "0                               AOE + AMA JUICE\n",
       "1                          AOE + GARCINIA JUICE\n",
       "2                                AOE VERA JUICE\n",
       "3                          AOE VERA SKIN GE  GM\n",
       "4                                    NEEM JUICE\n",
       "5                                    NONI JUICE\n",
       "6                      SIM SHAKE - CHOCOATE  GM\n",
       "7                         SIM SHAKE - MANGO  GM\n",
       "8                                 TRIPHAA JUICE\n",
       "9                               TUSI GIOY JUICE\n",
       "10                            WHEAT GRASS JUICE\n",
       "11                                    AMA JUICE\n",
       "12                                GET SIM JUICE\n",
       "13                             HIMAAYA OI  GRMS\n",
       "14                              VIGOR MAX JUICE\n",
       "15                ORGANIC JAGGERY POWDER  GRAMS\n",
       "16                     APPE CIDER VINEGAR grams\n",
       "17                         VIRGIN COCONUT OI  M\n",
       "18                            KAREA JAMUN JUICE\n",
       "19    MASAA SUPERGRAIN MIX ENERGY  GM ( OFFINE)\n",
       "20  MASAA SUPERGRAIN MIX IMMUNITY  GM ( OFFINE)\n",
       "21                             AMA + GIOY JUICE\n",
       "22                               DIA FREE JUICE\n",
       "23                            IMMUNE CARE JUICE\n",
       "24            MASAA SUPERGRAIN MIX IMMUNITY  GM\n",
       "25                         ORGANIC GUKAND grams\n",
       "26                 VEGAN PROTEIN - CHOCOATE  KG\n",
       "27                        GET SIM CAPSUES  CAPS\n",
       "28                    RAW HONEY ( MADHU)  GRAMS"
      ]
     },
     "execution_count": 22,
     "metadata": {},
     "output_type": "execute_result"
    }
   ],
   "source": [
    "df6"
   ]
  },
  {
   "cell_type": "markdown",
   "id": "6af4feaf",
   "metadata": {},
   "source": [
    "# 7. Create a single excel file to save all the outputs generated above in different subsheets. Email final output file and your python code (.ipynb) file to ranotiyahemant@gmail.com\n"
   ]
  },
  {
   "cell_type": "code",
   "execution_count": 23,
   "id": "8ab3686b",
   "metadata": {},
   "outputs": [],
   "source": [
    "import pandas as pd"
   ]
  },
  {
   "cell_type": "code",
   "execution_count": 153,
   "id": "13e8451d",
   "metadata": {},
   "outputs": [],
   "source": [
    "d1 = pd.DataFrame(df1)\n",
    "d2 = pd.DataFrame(df2)\n",
    "d3 = pd.DataFrame(df3)\n",
    "d4 = pd.DataFrame(df4)\n",
    "d5 = pd.DataFrame(df5)\n",
    "d6 = pd.DataFrame(df6)\n",
    "\n",
    "path = 'C:\\\\Users\\\\vikas\\\\OneDrive\\\\Desktop\\\\Iota Notes\\\\FMCG_Analysis.xlsx'\n",
    "\n",
    "with pd.ExcelWriter(path) as engine:\n",
    "    \n",
    "    \n",
    "    \n",
    "    d1.to_excel(excel_writer=engine, sheet_name='Monthwise')\n",
    "    d2.to_excel(excel_writer=engine, sheet_name='Category')\n",
    "    d3.to_excel(excel_writer=engine, sheet_name='Sub_channel')\n",
    "    d4.to_excel(excel_writer=engine, sheet_name='Highest_sale')\n",
    "    d5.to_excel(excel_writer=engine, sheet_name='Selling_product')\n",
    "    d6.to_excel(excel_writer=engine, sheet_name='List_of_different')"
   ]
  },
  {
   "cell_type": "code",
   "execution_count": null,
   "id": "9c74cd11",
   "metadata": {},
   "outputs": [],
   "source": []
  },
  {
   "cell_type": "code",
   "execution_count": null,
   "id": "fb521eb7",
   "metadata": {},
   "outputs": [],
   "source": []
  },
  {
   "cell_type": "code",
   "execution_count": null,
   "id": "9a102cff",
   "metadata": {},
   "outputs": [],
   "source": []
  },
  {
   "cell_type": "code",
   "execution_count": null,
   "id": "1e5ea7db",
   "metadata": {},
   "outputs": [],
   "source": []
  }
 ],
 "metadata": {
  "kernelspec": {
   "display_name": "Python 3 (ipykernel)",
   "language": "python",
   "name": "python3"
  },
  "language_info": {
   "codemirror_mode": {
    "name": "ipython",
    "version": 3
   },
   "file_extension": ".py",
   "mimetype": "text/x-python",
   "name": "python",
   "nbconvert_exporter": "python",
   "pygments_lexer": "ipython3",
   "version": "3.10.9"
  }
 },
 "nbformat": 4,
 "nbformat_minor": 5
}
